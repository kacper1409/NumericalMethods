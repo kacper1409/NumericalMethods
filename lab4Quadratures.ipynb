{
 "cells": [
  {
   "cell_type": "markdown",
   "metadata": {},
   "source": [
    "# Zad 1"
   ]
  },
  {
   "cell_type": "code",
   "execution_count": 2,
   "metadata": {},
   "outputs": [],
   "source": [
    "import numpy as np\n",
    "import matplotlib.pyplot as plt\n",
    "import math\n",
    "from math import log\n",
    "from math import cos\n",
    "from math import sin\n",
    "from math import exp\n",
    "from math import factorial\n",
    "from itertools import product\n",
    "from numpy.linalg import solve\n",
    "from numpy import poly1d\n",
    "import scipy\n",
    "from scipy.interpolate import lagrange"
   ]
  },
  {
   "cell_type": "markdown",
   "metadata": {},
   "source": [
    "# a)"
   ]
  },
  {
   "cell_type": "code",
   "execution_count": 3,
   "metadata": {},
   "outputs": [
    {
     "name": "stdout",
     "output_type": "stream",
     "text": [
      "całka z x ** 0\n",
      "wynik podejścia analitycznego: 10.0\n",
      "wynik wykorzystania metody Simpsona: 10.0\n",
      "----------\n",
      "całka z x ** 1\n",
      "wynik podejścia analitycznego: 50.0\n",
      "wynik wykorzystania metody Simpsona: 50.0\n",
      "----------\n",
      "całka z x ** 2\n",
      "wynik podejścia analitycznego: 333.3333333333333\n",
      "wynik wykorzystania metody Simpsona: 333.33333333333337\n",
      "----------\n",
      "całka z x ** 3\n",
      "wynik podejścia analitycznego: 2500.0\n",
      "wynik wykorzystania metody Simpsona: 2500.0\n",
      "----------\n",
      "całka z x ** 4\n",
      "wynik podejścia analitycznego: 20000.0\n",
      "wynik wykorzystania metody Simpsona: 20833.333333333336\n",
      "----------\n",
      "całka z x ** 5\n",
      "wynik podejścia analitycznego: 166666.66666666666\n",
      "wynik wykorzystania metody Simpsona: 187500.0\n",
      "----------\n"
     ]
    }
   ],
   "source": [
    "def simpsonMethod(f, a, b):\n",
    "    return (b - a) / 6 * (f(a) + 4 * f((a + b) / 2) + f(b))\n",
    "  \n",
    "maxDegree = 5\n",
    "a = 0\n",
    "b = 10\n",
    "\n",
    "for i in range(maxDegree + 1):\n",
    "    print(\"całka z x **\", i)\n",
    "    f = lambda x: x ** (i + 1)\n",
    "    print(\"wynik podejścia analitycznego:\", 1 / (i + 1) * f(b) - 1 / (i + 1) * f(a))\n",
    "    print(\"wynik wykorzystania metody Simpsona:\", simpsonMethod(lambda x: x ** (i), a, b))\n",
    "    print(\"----------\")\n"
   ]
  },
  {
   "cell_type": "markdown",
   "metadata": {},
   "source": [
    "Od jednomianu stopnia zerowego do stopnia trzeciego włącznie wartość\n",
    "kwadratury Simpsona pokrywa się z obliczeniami analitycznymi. Od czwartego\n",
    "stopnia metoda przestaje być dokładna i następują rozbieżności wyników."
   ]
  },
  {
   "cell_type": "markdown",
   "metadata": {},
   "source": [
    "# b)"
   ]
  },
  {
   "cell_type": "code",
   "execution_count": 4,
   "metadata": {},
   "outputs": [
    {
     "name": "stdout",
     "output_type": "stream",
     "text": [
      "wynik z jednym przedziałem: -0.0010027325181523323\n",
      "wynik z podzieleniem na dwa przedziały 0.10368557622593552\n"
     ]
    }
   ],
   "source": [
    "a = 0\n",
    "b = 5\n",
    "\n",
    "oneIntervalResult = simpsonMethod(lambda x: exp(-3 * x) * sin(4 * x), a, b)\n",
    "\n",
    "a = 0\n",
    "b = 1\n",
    "c = 5\n",
    "\n",
    "twoIntervalResult = simpsonMethod(lambda x: exp(-3 * x) * sin(4 * x), a, b) + simpsonMethod(lambda x: exp(-3 * x) * sin(4 * x), b, c)\n",
    "\n",
    "print(\"wynik z jednym przedziałem:\", oneIntervalResult)\n",
    "print(\"wynik z podzieleniem na dwa przedziały\", twoIntervalResult)\n"
   ]
  },
  {
   "cell_type": "markdown",
   "metadata": {},
   "source": [
    "Wyniki różnią się, ponieważ, jak widać na wykresie w pp. c) w przedziale [0, 1] występują odchylenia funkcji, a [1, 5] są one prawie niewidoczne. Wykorzystując metodę Simpsona na całym zadanym przedziale, wartości paraboli interpolującej funkcję są bliskie 0, więc wartość całki z paraboli (pole pod wykresem) będąca przybliżeniem funkcji jest mała.\n",
    "Natomiast gdy przedział rozbijemy na dwa zadane: [0, 1], [1, 5], to zwłaszcza na tym pierwszym, funkcja osiąga znacznie większe wartości, dlatego całka z paraboli interpolującej funkcję na [0, 1] będzie większa i to głównie ona powoduje rozbieżność wyników."
   ]
  },
  {
   "cell_type": "markdown",
   "metadata": {},
   "source": [
    "# c)"
   ]
  },
  {
   "cell_type": "code",
   "execution_count": 5,
   "metadata": {},
   "outputs": [
    {
     "name": "stdout",
     "output_type": "stream",
     "text": [
      "kwadratura wielomianu inerpolującego: -0.0010027325181523321\n"
     ]
    },
    {
     "data": {
      "image/png": "[encoded data removed]",
      "text/plain": [
       "<Figure size 432x288 with 1 Axes>"
      ]
     },
     "metadata": {
      "needs_background": "light"
     },
     "output_type": "display_data"
    }
   ],
   "source": [
    "a = 0\n",
    "b = 5\n",
    "\n",
    "# wyznaczenie wielomianu interpolującego\n",
    "xNodes = np.linspace(a, b, 3)\n",
    "yNodes = [(lambda x: exp(-3 * x) * sin(4 * x))(x) for x in xNodes]\n",
    "polynomial = lagrange(xNodes, yNodes)\n",
    " \n",
    "args = np.linspace(a, b, 1000)\n",
    "values = [(lambda x: exp(-3 * x) * sin(4 * x))(x) for x in args]\n",
    "yNodes = [polynomial(x) for x in args]\n",
    "\n",
    "plt.plot(args, values)\n",
    "plt.plot(args, yNodes)\n",
    "plt.xlabel('x')\n",
    "plt.ylabel('y')\n",
    "plt.show\n",
    "\n",
    "print(\"kwadratura wielomianu inerpolującego:\", simpsonMethod(polynomial, a, b))"
   ]
  },
  {
   "cell_type": "markdown",
   "metadata": {},
   "source": [
    "Kwadratura wyliczonego wielomianu interpolującego jest równa wcześniej wyliczonej wartości ze wzoru (funkcji simpsonMethod).\n",
    "Wielomian interpolujący jest związany z metodą Simpsona: chcąc przybliżyć całkę oznaczoną danej funkcji f na przedziale [a, b], należy wziąc trzy równoodległe węzły na tym przedziale, a następnie scałkować parabolę P, przez te węzły przechodzącą. Obliczona całka jest szukanym przybliżeniem.\n",
    "\n",
    "$$\\int_{a}^{b} f(x) dx \\approx \\int_{a}^{b} P(x) dx$$"
   ]
  },
  {
   "cell_type": "markdown",
   "metadata": {},
   "source": [
    "# Zad 2"
   ]
  },
  {
   "cell_type": "markdown",
   "metadata": {},
   "source": [
    "Kwadratura adaptacyjna polega na tym, że tak długo dzielimy przedział na pół, aż różnica sumy kwadratur po podziale i sumy kwadratur przed podziałem będzie mniejsza niż piętnastokrotność zadanej dokładności."
   ]
  },
  {
   "cell_type": "markdown",
   "metadata": {},
   "source": [
    "# a)"
   ]
  },
  {
   "cell_type": "code",
   "execution_count": 6,
   "metadata": {},
   "outputs": [
    {
     "name": "stdout",
     "output_type": "stream",
     "text": [
      "Kwadratura dla epsilon = 0.01 : -0.03782275644650306\n",
      "Kwadratura dla epsilon = 0.001 : 0.15982397029661308\n"
     ]
    }
   ],
   "source": [
    "epsilon = 0.01\n",
    "\n",
    "def adaptQuadrature(epsilon, f, a, b, numOfIntervals, prevValue):\n",
    "    currentValue = 0\n",
    "    intervals = np.linspace(a, b, numOfIntervals + 1)\n",
    "    for i in range(numOfIntervals):\n",
    "        currentValue += simpsonMethod(f, intervals[i], intervals[i + 1])\n",
    "    \n",
    "    # przy pierwszym wywołaniu funkcji nie sprawdzam różnicy \n",
    "    if numOfIntervals != 1:\n",
    "        if abs(currentValue - prevValue) < 15 * epsilon:\n",
    "            return (currentValue, intervals)\n",
    "    \n",
    "    return adaptQuadrature(epsilon, f, a, b, 2 * numOfIntervals, currentValue)\n",
    "        \n",
    "    \n",
    "# funkcje wywołuję po raz pierwszy z parametrem numOfIntervals ustawionym na 1,\n",
    "# prevValue może być zainicjowana dowolnie, nie jest ona używana w pierwszym wywołaniu funkcji\n",
    "(value, _) = adaptQuadrature(epsilon, lambda x: exp(-3 * x) * sin(4 * x), 0, 5, 1, 0)\n",
    "print(\"Kwadratura dla epsilon =\", epsilon, \":\", value)\n",
    "\n",
    "epsilon = 0.001\n",
    "(value, _) = adaptQuadrature(epsilon, lambda x: exp(-3 * x) * sin(4 * x), 0, 5, 1, 0)\n",
    "print(\"Kwadratura dla epsilon =\", epsilon, \":\", value)"
   ]
  },
  {
   "cell_type": "markdown",
   "metadata": {},
   "source": [
    "# b)"
   ]
  },
  {
   "cell_type": "code",
   "execution_count": 7,
   "metadata": {},
   "outputs": [
    {
     "data": {
      "text/plain": [
       "<function matplotlib.pyplot.show(close=None, block=None)>"
      ]
     },
     "execution_count": 7,
     "metadata": {},
     "output_type": "execute_result"
    },
    {
     "data": {
      "image/png": "[encoded data removed]",
      "text/plain": [
       "<Figure size 432x288 with 1 Axes>"
      ]
     },
     "metadata": {
      "needs_background": "light"
     },
     "output_type": "display_data"
    }
   ],
   "source": [
    "# epsilon = 0.01\n",
    "epsilon = 0.01\n",
    "(_, xNodes) = adaptQuadrature(epsilon, lambda x: exp(-3 * x) * sin(4 * x), 0, 5, 1, 0)\n",
    "args = np.linspace(a, b, 1000)\n",
    "values = [(lambda x: exp(-3 * x) * sin(4 * x))(x) for x in args]\n",
    "yNodes = [(lambda x: exp(-3 * x) * sin(4 * x))(x) for x in xNodes]\n",
    "\n",
    "plt.plot(args, values)\n",
    "plt.plot(xNodes, yNodes, 'ro')\n",
    "\n",
    "plt.xlabel('x')\n",
    "plt.ylabel('y')\n",
    "plt.title(\"Wykres a: epsilon = 0.01\")\n",
    "plt.show"
   ]
  },
  {
   "cell_type": "code",
   "execution_count": 8,
   "metadata": {},
   "outputs": [
    {
     "data": {
      "text/plain": [
       "<function matplotlib.pyplot.show(close=None, block=None)>"
      ]
     },
     "execution_count": 8,
     "metadata": {},
     "output_type": "execute_result"
    },
    {
     "data": {
      "image/png": "[encoded data removed]",
      "text/plain": [
       "<Figure size 432x288 with 1 Axes>"
      ]
     },
     "metadata": {
      "needs_background": "light"
     },
     "output_type": "display_data"
    }
   ],
   "source": [
    "# epsilon = 0.001\n",
    "epsilon = 0.001\n",
    "(_, xNodes) = adaptQuadrature(epsilon, lambda x: exp(-3 * x) * sin(4 * x), 0, 5, 1, 0)\n",
    "args = np.linspace(a, b, 1000)\n",
    "values = [(lambda x: exp(-3 * x) * sin(4 * x))(x) for x in args]\n",
    "yNodes = [(lambda x: exp(-3 * x) * sin(4 * x))(x) for x in xNodes]\n",
    "\n",
    "plt.plot(args, values)\n",
    "plt.plot(xNodes, yNodes, 'ro')\n",
    "\n",
    "plt.xlabel('x')\n",
    "plt.ylabel('y')\n",
    "plt.title(\"Wykres b: epsilon = 0.001\")\n",
    "plt.show"
   ]
  },
  {
   "cell_type": "markdown",
   "metadata": {},
   "source": [
    "Przy zadanej dokładności epsilon = 0.01, kwadratura adaptacyjna dzieli przedział [a, b] na 2 podprzedziały,\n",
    "zaprezentowane symbolicznie na funkcji f (wykres a). Po zmianie dokładności na 0.001, przedział jest dzielony\n",
    "na 16 podprzedziałów (wykres b) i zwiększana jest dokładność obliczanej kwadratury."
   ]
  },
  {
   "cell_type": "markdown",
   "metadata": {},
   "source": [
    "# Zad 3"
   ]
  },
  {
   "cell_type": "markdown",
   "metadata": {},
   "source": [
    "# a)"
   ]
  },
  {
   "cell_type": "code",
   "execution_count": 9,
   "metadata": {},
   "outputs": [
    {
     "data": {
      "text/plain": [
       "<function matplotlib.pyplot.show(close=None, block=None)>"
      ]
     },
     "execution_count": 9,
     "metadata": {},
     "output_type": "execute_result"
    },
    {
     "data": {
      "image/png": "[encoded data removed]",
      "text/plain": [
       "<Figure size 432x288 with 1 Axes>"
      ]
     },
     "metadata": {
      "needs_background": "light"
     },
     "output_type": "display_data"
    }
   ],
   "source": [
    "def P(k):\n",
    "    if k == 0:\n",
    "        return np.poly1d([1])\n",
    "    if k == 1:\n",
    "        return np.poly1d([1, 0])\n",
    "    \n",
    "    comp1 = ((2 * k - 1) / k) * np.poly1d([1, 0]) * P(k - 1)\n",
    "    comp2 = (k - 1) / k * P(k - 2)\n",
    "    \n",
    "    return comp1 - comp2\n",
    "\n",
    "args = np.linspace(-1, 1, 1000)\n",
    "for i in range(5):\n",
    "    f = P(i)\n",
    "    plt.plot(args, [f(x) for x in args])\n",
    "    \n",
    "plt.xlabel('x')\n",
    "plt.ylabel('y')\n",
    "plt.title(\"Wielomiany Legendre'a do stopnia 4\")\n",
    "plt.show"
   ]
  },
  {
   "cell_type": "markdown",
   "metadata": {},
   "source": [
    "# b)"
   ]
  },
  {
   "cell_type": "code",
   "execution_count": 10,
   "metadata": {},
   "outputs": [
    {
     "name": "stdout",
     "output_type": "stream",
     "text": [
      "Węzły wielomianu ortogonalnego 2 stopnia, wyliczone z wykorzystaniem numpy.poly1d.r: [ 0.57735027 -0.57735027]\n",
      "Odcięte punktów Gaussa, wyliczone z wykorzystaniem scipy.special.roots_legendre (array([-0.57735027,  0.57735027]), array([1., 1.]))\n",
      "----------\n",
      "Węzły wielomianu ortogonalnego 3 stopnia, wyliczone z wykorzystaniem numpy.poly1d.r: [ 0.77459667 -0.77459667  0.        ]\n",
      "Odcięte punktów Gaussa, wyliczone z wykorzystaniem scipy.special.roots_legendre (array([-0.77459667,  0.        ,  0.77459667]), array([0.55555556, 0.88888889, 0.55555556]))\n",
      "----------\n",
      "Węzły wielomianu ortogonalnego 4 stopnia, wyliczone z wykorzystaniem numpy.poly1d.r: [-0.86113631  0.86113631 -0.33998104  0.33998104]\n",
      "Odcięte punktów Gaussa, wyliczone z wykorzystaniem scipy.special.roots_legendre (array([-0.86113631, -0.33998104,  0.33998104,  0.86113631]), array([0.34785485, 0.65214515, 0.65214515, 0.34785485]))\n",
      "----------\n",
      "węzły są sobie równe\n"
     ]
    }
   ],
   "source": [
    "for i in range(2, 5):\n",
    "    print(\"Węzły wielomianu ortogonalnego\", i, \"stopnia, wyliczone z wykorzystaniem numpy.poly1d.r:\", P(i).r)\n",
    "    print(\"Odcięte punktów Gaussa, wyliczone z wykorzystaniem scipy.special.roots_legendre\", scipy.special.roots_legendre(i))\n",
    "    print(\"----------\")\n",
    "    \n",
    "print(\"węzły są sobie równe\")"
   ]
  },
  {
   "cell_type": "markdown",
   "metadata": {},
   "source": [
    "# c)"
   ]
  },
  {
   "cell_type": "markdown",
   "metadata": {},
   "source": [
    "Podstawowe twierdzenie kwadratur Gaussa mówi, że odciętę n-punktowej kwadratury Gaussa są miejscami zerowymi wielomianu ortogonalnego dla jednego przedziału i tej samej funkcji ważącej, wyniki w podpunkcie b) zachowują się tak jak można przewidywać na podstawie tego twierdzenia."
   ]
  },
  {
   "cell_type": "markdown",
   "metadata": {},
   "source": [
    "# Zad 4"
   ]
  },
  {
   "cell_type": "code",
   "execution_count": 11,
   "metadata": {},
   "outputs": [
    {
     "name": "stdout",
     "output_type": "stream",
     "text": [
      "całka z x ** 0\n",
      "wynik podejścia analitycznego: 2.0\n",
      "wynik wykorzystania kwadratury Gaussa: 1.9999999999999996\n",
      "----------\n",
      "całka z x ** 1\n",
      "wynik podejścia analitycznego: 0.0\n",
      "wynik wykorzystania kwadratury Gaussa: 0.0\n",
      "----------\n",
      "całka z x ** 2\n",
      "wynik podejścia analitycznego: 0.6666666666666666\n",
      "wynik wykorzystania kwadratury Gaussa: 0.666666666666667\n",
      "----------\n",
      "całka z x ** 3\n",
      "wynik podejścia analitycznego: 0.0\n",
      "wynik wykorzystania kwadratury Gaussa: 0.0\n",
      "----------\n",
      "całka z x ** 4\n",
      "wynik podejścia analitycznego: 0.4\n",
      "wynik wykorzystania kwadratury Gaussa: 0.40000000000000013\n",
      "----------\n",
      "całka z x ** 5\n",
      "wynik podejścia analitycznego: 0.0\n",
      "wynik wykorzystania kwadratury Gaussa: 0.0\n",
      "----------\n",
      "całka z x ** 6\n",
      "wynik podejścia analitycznego: 0.2857142857142857\n",
      "wynik wykorzystania kwadratury Gaussa: 0.24000000000000013\n",
      "----------\n",
      "całka z x ** 7\n",
      "wynik podejścia analitycznego: 0.0\n",
      "wynik wykorzystania kwadratury Gaussa: 0.0\n",
      "----------\n",
      "całka z x ** 8\n",
      "wynik podejścia analitycznego: 0.2222222222222222\n",
      "wynik wykorzystania kwadratury Gaussa: 0.1440000000000001\n",
      "----------\n",
      "całka z x ** 9\n",
      "wynik podejścia analitycznego: 0.0\n",
      "wynik wykorzystania kwadratury Gaussa: 0.0\n",
      "----------\n",
      "całka z x ** 10\n",
      "wynik podejścia analitycznego: 0.18181818181818182\n",
      "wynik wykorzystania kwadratury Gaussa: 0.08640000000000005\n",
      "----------\n"
     ]
    }
   ],
   "source": [
    "def gaussianQuadrature(f, k):\n",
    "    (nodes, ACoeff) = scipy.special.roots_legendre(k)\n",
    "    acc = 0\n",
    "    for i in range(k):\n",
    "        acc += f(nodes[i]) * ACoeff[i]\n",
    "        \n",
    "    return acc\n",
    "\n",
    "maxDegree = 10\n",
    "a = -1\n",
    "b = 1\n",
    "k = 3\n",
    "\n",
    "for i in range(maxDegree + 1):\n",
    "    print(\"całka z x **\", i)\n",
    "    f = lambda x: x ** (i + 1)\n",
    "    print(\"wynik podejścia analitycznego:\", 1 / (i + 1) * f(b) - 1 / (i + 1) * f(a))\n",
    "    print(\"wynik wykorzystania kwadratury Gaussa:\", gaussianQuadrature(lambda x: x ** (i), k))\n",
    "    print(\"----------\")    "
   ]
  },
  {
   "cell_type": "markdown",
   "metadata": {},
   "source": [
    "Twierdzenie o stopniu dokładności kwadratury Gaussa mówi, że gdy użyjemy wielomianu q, o n + 1 miejscach zerowych, to przybliżenie będzie dokładne dla wielomianów stopnia 2 * n + 1. Pokrywa się to z rezultatami obliczeń, przykładowo dla k = 3, przybliżenie powinno nie być dokładne dla wielomianu stopnia większego niż 5. Powyższe obliczenia wskazują, że tak jest."
   ]
  },
  {
   "cell_type": "markdown",
   "metadata": {},
   "source": [
    "# Zad 5"
   ]
  },
  {
   "cell_type": "code",
   "execution_count": 14,
   "metadata": {},
   "outputs": [
    {
     "name": "stdout",
     "output_type": "stream",
     "text": [
      "obliczenie całki od -5 do 5 z x ** 2:\n",
      "analitycznie: 83.33333333333333\n",
      "użycie metody Gaussa po normalizacji: 83.33333333333336\n"
     ]
    }
   ],
   "source": [
    "def normalizeGaussianQuadrature(f, a, b, k):\n",
    "    F = lambda x: f( (b + a) / 2 + (b - a) / 2 * x )\n",
    "    \n",
    "    return gaussianQuadrature(F, k) * (b - a) / 2\n",
    "    \n",
    "a = -5\n",
    "b = 5\n",
    "k = 3\n",
    "\n",
    "print(\"obliczenie całki od -5 do 5 z x ** 2:\")\n",
    "print(\"analitycznie:\", 1 / 3 * (5 ** 3 + 5 ** 3))\n",
    "print(\"użycie metody Gaussa po normalizacji:\", normalizeGaussianQuadrature(lambda x: x ** 2, a, b, k))"
   ]
  },
  {
   "cell_type": "code",
   "execution_count": null,
   "metadata": {},
   "outputs": [],
   "source": []
  }
 ],
 "metadata": {
  "kernelspec": {
   "display_name": "Python 3",
   "language": "python",
   "name": "python3"
  },
  "language_info": {
   "codemirror_mode": {
    "name": "ipython",
    "version": 3
   },
   "file_extension": ".py",
   "mimetype": "text/x-python",
   "name": "python",
   "nbconvert_exporter": "python",
   "pygments_lexer": "ipython3",
   "version": "3.8.5"
  }
 },
 "nbformat": 4,
 "nbformat_minor": 4
}
