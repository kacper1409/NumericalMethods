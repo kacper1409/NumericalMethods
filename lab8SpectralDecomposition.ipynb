{
 "cells": [
  {
   "cell_type": "markdown",
   "metadata": {},
   "source": [
    "# Sprawozdanie z labratorium 8 - Kacper Barczyk - 11.05.2021"
   ]
  },
  {
   "cell_type": "code",
   "execution_count": 30,
   "metadata": {},
   "outputs": [],
   "source": [
    "import mpmath as mp\n",
    "from mpmath import sin\n",
    "from mpmath import cos\n",
    "from mpmath import sinh\n",
    "from mpmath import cosh\n",
    "from mpmath import tan\n",
    "from mpmath import exp\n",
    "from mpmath import mpf\n",
    "from math import pi\n",
    "from mpmath import sign\n",
    "import colorsys\n",
    "import matplotlib\n",
    "import numpy as np\n",
    "import matplotlib\n",
    "import matplotlib.pyplot as plt\n",
    "import pylab\n",
    "from math import ceil\n",
    "from math import floor\n",
    "from math import log\n",
    "from numpy import float64\n",
    "import random\n",
    "import time\n",
    "import scipy\n",
    "from scipy.linalg import lu\n",
    "from itertools import product\n",
    "from mpl_toolkits.mplot3d import Axes3D\n",
    "from numpy import random\n",
    "from numpy import allclose\n",
    "import networkx as nx"
   ]
  },
  {
   "cell_type": "markdown",
   "metadata": {},
   "source": [
    "# Zad 1"
   ]
  },
  {
   "cell_type": "code",
   "execution_count": 31,
   "metadata": {},
   "outputs": [],
   "source": [
    "def powerMethod(matrix, epsilon, maxIterations):\n",
    "    (n, _) = matrix.shape\n",
    "    \n",
    "    currentV = np.random.rand(n)\n",
    "    nextV = matrix @ currentV \n",
    "    maxValue = np.linalg.norm(nextV, ord=np.inf)\n",
    "    nextV /= maxValue\n",
    "    \n",
    "    i = 0\n",
    "    while i < maxIterations and np.linalg.norm(currentV - nextV) > epsilon:\n",
    "        currentV = nextV\n",
    "        nextV = matrix @ currentV\n",
    "        maxValue = np.linalg.norm(nextV, ord=np.inf)\n",
    "        nextV /= maxValue\n",
    "        i += 1\n",
    "    \n",
    "    nextV /= np.linalg.norm(nextV)\n",
    "    \n",
    "    return (maxValue, nextV)"
   ]
  },
  {
   "cell_type": "code",
   "execution_count": 32,
   "metadata": {},
   "outputs": [
    {
     "name": "stdout",
     "output_type": "stream",
     "text": [
      "Najwieksza wartość własna wyznaczona za pomocą powerMathod: 2.6122074886667663\n",
      "Najwieksza wartość własna wyznaczona za pomocą funkcji bibliotecznej: (2.6122350841691366+0j)\n",
      "-----------------------\n",
      "Wektor własny wyznaczony za pomocą powerMathod: [0.43092412 0.37362182 0.58068444 0.37986959 0.43956321]\n",
      "Wektor własny wyznaczony za pomocą funkcji bibliotecznej: [0.43092412 0.37362182 0.58068444 0.37986959 0.43956321]\n"
     ]
    }
   ],
   "source": [
    "n = 5\n",
    "matrix = np.random.rand(n, n)\n",
    "epsilon = 10 ** (-4)\n",
    "maxIterations = 1000\n",
    "\n",
    "(maxEigenvalue, eigenvector) = powerMethod(matrix, epsilon, maxIterations)\n",
    "npEigenvalue = max(np.linalg.eig(matrix)[0])\n",
    "npEigenvector = np.linalg.eig(matrix)[1][:, 0]\n",
    "\n",
    "print(\"Najwieksza wartość własna wyznaczona za pomocą powerMathod:\", maxEigenvalue)\n",
    "print(\"Najwieksza wartość własna wyznaczona za pomocą funkcji bibliotecznej:\", npEigenvalue)\n",
    "print(\"-----------------------\")\n",
    "print(\"Wektor własny wyznaczony za pomocą powerMathod:\", eigenvector)\n",
    "print(\"Wektor własny wyznaczony za pomocą funkcji bibliotecznej:\", eigenvector)"
   ]
  },
  {
   "cell_type": "code",
   "execution_count": null,
   "metadata": {},
   "outputs": [],
   "source": [
    "epsilon = 10 ** (-8)\n",
    "maxIterations = 10000\n",
    "\n",
    "timesPowerMethod = []\n",
    "for i in range(100, 2500, 100):\n",
    "    start = time.process_time()\n",
    "    n = i\n",
    "    matrix = np.random.rand(n, n)\n",
    "    (maxEigenvalue, eigenvector) = powerMethod(matrix, epsilon, maxIterations)\n",
    "    end = time.process_time()\n",
    "    timesPowerMethod.append(end - start)\n",
    "\n",
    "timesNumpyMethod = []\n",
    "for i in range(100, 2500, 100):\n",
    "    start = time.process_time()\n",
    "    n = i\n",
    "    matrix = np.random.rand(n, n)\n",
    "    np.linalg.eig(matrix)\n",
    "    end = time.process_time()\n",
    "    timesNumpyMethod.append(end - start)"
   ]
  },
  {
   "cell_type": "code",
   "execution_count": null,
   "metadata": {},
   "outputs": [],
   "source": [
    "sizesOfMatrices = []\n",
    "for i in range(100, 2500, 100):\n",
    "    sizesOfMatrices.append(i)\n",
    "\n",
    "plt.figure(figsize=(10, 8))\n",
    "plt.scatter(sizesOfMatrices, timesPowerMethod, label='power method')\n",
    "plt.scatter(sizesOfMatrices, timesNumpyMethod, label='np.linalg.eig function')\n",
    "plt.xlabel('rozmiar macierzy', fontsize=10)\n",
    "plt.ylabel('czas działania [s]', fontsize=10)\n",
    "plt.legend(prop={'size': 10})\n",
    "plt.title(\"Porównanie czasów działania metod power method i bibliotecznej w zależności od rozmiaru macierzy\")"
   ]
  },
  {
   "cell_type": "markdown",
   "metadata": {},
   "source": [
    "Jak widać na podstawie wykresu, zaimplementowana funkcja powerMethod jest znacznie szybsza od funcji bibliotecznej. Wynika to z faktu, iż funkcja biblioteczna zwraca wszystkie wartości własne i wszystkie odpowiadające wektory własne, natomiast moja funkcja zwraca tylko jedną, największą wartość własną i odpowiadający jej jeden wektor."
   ]
  },
  {
   "cell_type": "markdown",
   "metadata": {},
   "source": [
    "# Zad 2"
   ]
  },
  {
   "cell_type": "markdown",
   "metadata": {},
   "source": [
    "Korzystając z twierdzenia podanego w zadaniu, mówiącego o identyczności wektorów własnych macierzy i macierzy do niej odwrotnej (z przesunięciem) będę wyznaczał wektor własny wykorzystując metodę potęgową na macierzy odwrotnej oraz parametr wejściowy sigma. Będę wykonywał następujące kroki:\n",
    "\n",
    "$$x^{k+1} = (A- \\sigma I  )^{-1} x^k$$\n",
    "\n",
    "Przekształcam do równoważnej postaci łatwiejszej do obliczenia\n",
    "\n",
    "$$A x^{k+1} = x^k$$\n",
    "\n",
    "Przekształcam do równoważnej postaci wykorzystującej faktoryzację LU\n",
    "\n",
    "$$U x^{k+1} = L^{-1} x^k$$\n",
    "\n",
    "Rozwiązuję układ równań gdzie niewiadomomą jest wektor $$ x^{k+1} $$\n",
    "\n",
    "i normalizuję rozwiązanie. Powtarzam czynności aż do uzyskania żądanej dokładności, lub do uzyskania odpowiedniej liczby iteracji"
   ]
  },
  {
   "cell_type": "code",
   "execution_count": null,
   "metadata": {},
   "outputs": [],
   "source": [
    "def inversePowerMethod(matrix, epsilon, maxIterations, sigma):\n",
    "    (n, _) = matrix.shape\n",
    "    I = np.identity(n)\n",
    "    shiftMatrix = matrix.copy()\n",
    "    \n",
    "    shiftMatrix = shiftMatrix - sigma * I\n",
    "    _, L, U = scipy.linalg.lu(shiftMatrix)\n",
    "    invL = np.linalg.inv(L)\n",
    "        \n",
    "    currentV = np.random.rand(n)\n",
    "    rightSide = invL @ currentV\n",
    "    nextV = np.linalg.solve(U, rightSide)\n",
    "    maxValue = np.linalg.norm(nextV)\n",
    "    nextV /= maxValue\n",
    "    \n",
    "    i = 0\n",
    "    while i < maxIterations and np.linalg.norm(currentV - nextV) > epsilon:\n",
    "        currentV = nextV\n",
    "        rightSide = invL @ currentV\n",
    "        nextV = np.linalg.solve(U, rightSide)\n",
    "        maxValue = np.linalg.norm(nextV)\n",
    "        nextV /= maxValue\n",
    "        i += 1\n",
    "    \n",
    "    nextV /= np.linalg.norm(nextV)\n",
    "    \n",
    "    return nextV, i"
   ]
  },
  {
   "cell_type": "code",
   "execution_count": null,
   "metadata": {},
   "outputs": [],
   "source": [
    "n = 3\n",
    "matrix = np.random.rand(n, n)\n",
    "epsilon = 10 ** (-8)\n",
    "maxIterations = 2000\n",
    "\n",
    "eigenvector, iterations = inversePowerMethod(matrix, epsilon, maxIterations, 2)\n",
    "npEigenvector = np.linalg.eig(matrix)[1][:, 0]\n",
    "\n",
    "print(\"Wektor własny wyznaczony za pomocą inversePowerMethod:\", eigenvector)\n",
    "print(\"Wektor własny wyznaczony za pomocą funkcji bibliotecznej:\", npEigenvector)\n",
    "print(\"Liczba iteracji potrzebna do znalezienia rozwiązania:\", iterations)"
   ]
  },
  {
   "cell_type": "markdown",
   "metadata": {},
   "source": [
    "Metoda znajduje poprawny wektor własny, ale potrzebuje do tego dużej liczby iteracji (maksymalnej zadanej jako parametr)."
   ]
  },
  {
   "cell_type": "markdown",
   "metadata": {},
   "source": [
    "# Zad 3"
   ]
  },
  {
   "cell_type": "code",
   "execution_count": null,
   "metadata": {},
   "outputs": [],
   "source": [
    "def ipmWithRayleighQuotient(matrix, epsilon, maxIterations, sigma):\n",
    "    (n, _) = matrix.shape\n",
    "    I = np.identity(n)\n",
    "    shiftMatrix = matrix.copy()\n",
    "    \n",
    "    shiftMatrix = shiftMatrix - sigma * I\n",
    "    _, L, U = scipy.linalg.lu(shiftMatrix)\n",
    "    invL = np.linalg.inv(L)\n",
    "    \n",
    "    currentV = np.random.rand(n)\n",
    "    rightSide = invL @ currentV\n",
    "    nextV = np.linalg.solve(U, rightSide)\n",
    "    maxValue = np.linalg.norm(nextV)\n",
    "    nextV /= maxValue\n",
    "    \n",
    "    i = 0\n",
    "    while i < maxIterations and np.linalg.norm(currentV - nextV) > epsilon:\n",
    "        \n",
    "        sigma = ( currentV.T @ shiftMatrix @ currentV ) / ( currentV.T @ currentV )\n",
    "        shiftMatrix = shiftMatrix - sigma * I\n",
    "        _, L, U = scipy.linalg.lu(shiftMatrix)\n",
    "        invL = np.linalg.inv(L)\n",
    "        \n",
    "        currentV = nextV\n",
    "        rightSide = invL @ currentV\n",
    "        nextV = np.linalg.solve(U, rightSide)\n",
    "        maxValue = np.linalg.norm(nextV)\n",
    "        nextV /= maxValue\n",
    "        i += 1\n",
    "    \n",
    "    nextV /= np.linalg.norm(nextV)\n",
    "    \n",
    "    return nextV, i"
   ]
  },
  {
   "cell_type": "code",
   "execution_count": null,
   "metadata": {},
   "outputs": [],
   "source": [
    "n = 3\n",
    "matrix = np.random.rand(n, n)\n",
    "epsilon = 10 ** (-8)\n",
    "maxIterations = 2000\n",
    "\n",
    "eigenvector, iteration = ipmWithRayleighQuotient(matrix, epsilon, maxIterations, 2)\n",
    "npEigenvalue = min(np.linalg.eig(matrix)[0])\n",
    "npEigenvector = np.linalg.eig(matrix)[1][:, 0]\n",
    "\n",
    "print(\"Wektor własny wyznaczony za pomocą ipmWithRayleighQuotient:\", eigenvector)\n",
    "print(\"Wektor własny wyznaczony za pomocą funkcji bibliotecznej:\", npEigenvector)\n",
    "print(\"Liczba iteracji potrzebna do znalezienia rozwiązania:\", iterations)"
   ]
  },
  {
   "cell_type": "markdown",
   "metadata": {},
   "source": [
    "Metoda znajduje poprawny wektor własny, i w stosunku do zwykłej odwrotnej metody potęgowej potrzebuje znacznie mniejszej ilości iteracji (przetestowane wielokrotnie). Metoda z ilorazem Rayleigha ma jednak większą złożoność. "
   ]
  },
  {
   "cell_type": "code",
   "execution_count": null,
   "metadata": {},
   "outputs": [],
   "source": []
  }
 ],
 "metadata": {
  "kernelspec": {
   "display_name": "Python 3",
   "language": "python",
   "name": "python3"
  },
  "language_info": {
   "codemirror_mode": {
    "name": "ipython",
    "version": 3
   },
   "file_extension": ".py",
   "mimetype": "text/x-python",
   "name": "python",
   "nbconvert_exporter": "python",
   "pygments_lexer": "ipython3",
   "version": "3.8.5"
  }
 },
 "nbformat": 4,
 "nbformat_minor": 4
}
