{
 "cells": [
  {
   "cell_type": "code",
   "execution_count": 43,
   "metadata": {},
   "outputs": [],
   "source": [
    "import mpmath as mp\n",
    "from mpmath import sin\n",
    "from mpmath import cos\n",
    "from mpmath import sinh\n",
    "from mpmath import cosh\n",
    "from mpmath import tan\n",
    "from mpmath import exp\n",
    "from mpmath import mpf\n",
    "from math import pi\n",
    "from mpmath import sign\n",
    "import colorsys\n",
    "import matplotlib\n",
    "import numpy as np\n",
    "import matplotlib\n",
    "import matplotlib.pyplot as plt\n",
    "import pylab\n",
    "from math import ceil\n",
    "from math import floor\n",
    "from math import log\n",
    "from numpy import float64\n",
    "import random\n",
    "import time\n",
    "import scipy\n",
    "from scipy.linalg import lu\n",
    "from itertools import product\n",
    "from mpl_toolkits.mplot3d import Axes3D\n",
    "from numpy import random\n",
    "from numpy import allclose\n",
    "import networkx as nx"
   ]
  },
  {
   "cell_type": "markdown",
   "metadata": {},
   "source": [
    "# Zad 1"
   ]
  },
  {
   "cell_type": "markdown",
   "metadata": {},
   "source": [
    "# Metoda Jacobiego"
   ]
  },
  {
   "cell_type": "code",
   "execution_count": 44,
   "metadata": {},
   "outputs": [],
   "source": [
    "def jacobiMethod(matrix, vector, solution, epsilon):\n",
    "    (n, _) = matrix.shape\n",
    "    initV = np.random.rand(n, 1)\n",
    "    tmpV = initV.copy()\n",
    "    steps = 0\n",
    "    errorArr = []\n",
    "    while not allclose(initV, solution, atol=epsilon):\n",
    "        for i in range(n):\n",
    "            acc = 0\n",
    "            \n",
    "            for j in range(n):\n",
    "                if j != i:\n",
    "                    acc += matrix[i, j] * initV[j]\n",
    "                \n",
    "            tmpV[i] = 1 / matrix[i, i] * (vector[i] - acc)\n",
    "            \n",
    "        initV = tmpV.copy()\n",
    "        # błąd do wykresu wyliczam jako średnią różnicę wartości na każdej pozycji wektorów initV i solution \n",
    "        errorArr.append(sum([abs(initV[i, 0] - solution[i, 0]) for i in range(len(solution))]) / len(solution))\n",
    "        steps += 1\n",
    "        \n",
    "    return initV, steps, errorArr"
   ]
  },
  {
   "cell_type": "code",
   "execution_count": 45,
   "metadata": {},
   "outputs": [
    {
     "name": "stdout",
     "output_type": "stream",
     "text": [
      "Rozwiązanie pierwszego układu metodą Jacobiego:\n",
      " [[ 0.99994499]\n",
      " [-0.99994728]\n",
      " [ 1.0000076 ]\n",
      " [-0.99991868]]\n",
      "Liczba kroków do rozwiązania: 14\n",
      "----------------\n",
      "Rozwiązanie drugiego układu metodą Jacobiego:\n",
      " [[-0.99991401]\n",
      " [ 0.99990085]\n",
      " [-0.99997677]\n",
      " [ 0.99989637]]\n",
      "Liczba kroków do rozwiązania: 69\n"
     ]
    },
    {
     "data": {
      "text/plain": [
       "<function matplotlib.pyplot.show(close=None, block=None)>"
      ]
     },
     "execution_count": 45,
     "metadata": {},
     "output_type": "execute_result"
    },
    {
     "data": {
      "image/png": "[encoded data removed]",
      "text/plain": [
       "<Figure size 432x288 with 1 Axes>"
      ]
     },
     "metadata": {
      "needs_background": "light"
     },
     "output_type": "display_data"
    }
   ],
   "source": [
    "matrix = np.array([[7, 1, -1, 2], [1, 8, 0, -2], [-1, 0, 4, -1], [2, -2, -1, 6]])\n",
    "vector = np.array([[3], [-5], [4], [-3]])\n",
    "solution = np.array([[1], [-1], [1], [-1]])\n",
    "epsilon = 10 ** (-4)\n",
    "\n",
    "(result, steps, _) = jacobiMethod(matrix, vector, solution, epsilon)\n",
    "\n",
    "print(\"Rozwiązanie pierwszego układu metodą Jacobiego:\\n\", result)\n",
    "print(\"Liczba kroków do rozwiązania:\", steps)\n",
    "print(\"----------------\")\n",
    "\n",
    "matrix = np.array([[7, 3, -1, 2], [3, 8, 1, -4], [-1, 1, 4, -1], [2, -4, -1, 6]])\n",
    "vector = np.array([[-1], [0], [-3], [1]])\n",
    "solution = np.array([[-1], [1], [-1], [1]])\n",
    "epsilon = 10 ** (-4)\n",
    "\n",
    "(result, steps, values) = jacobiMethod(matrix, vector, solution, epsilon)\n",
    "\n",
    "print(\"Rozwiązanie drugiego układu metodą Jacobiego:\\n\", result)\n",
    "print(\"Liczba kroków do rozwiązania:\", steps)\n",
    "\n",
    "args = [i for i in range(len(values))]\n",
    "\n",
    "plt.scatter(args, values)\n",
    "plt.xlabel('x')\n",
    "plt.ylabel('y')\n",
    "plt.title(\"Zależność błędu od iteracji dla drugiego układu\")\n",
    "plt.show"
   ]
  },
  {
   "cell_type": "markdown",
   "metadata": {},
   "source": [
    "# Metoda Gaussa-Seidela"
   ]
  },
  {
   "cell_type": "code",
   "execution_count": 46,
   "metadata": {},
   "outputs": [],
   "source": [
    "def gaussSeidelMethod(matrix, vector, solution, epsilon):\n",
    "    (n, _) = matrix.shape\n",
    "    initV = np.random.rand(n, 1)\n",
    "    errorArr = []\n",
    "    \n",
    "    steps = 0\n",
    "    while not allclose(initV, solution, atol=epsilon):\n",
    "        for i in range(n):\n",
    "            acc = vector[i]\n",
    "            \n",
    "            for j in range(n):\n",
    "                if j != i:\n",
    "                     acc = acc - matrix[i][j] * initV[j]\n",
    "                        \n",
    "            initV[i] = acc / matrix[i, i]\n",
    "        \n",
    "        errorArr.append(sum([abs(initV[i, 0] - solution[i, 0]) for i in range(len(solution))]) / len(solution))    \n",
    "        steps += 1\n",
    "        \n",
    "    return initV, steps, errorArr"
   ]
  },
  {
   "cell_type": "code",
   "execution_count": 47,
   "metadata": {},
   "outputs": [
    {
     "name": "stdout",
     "output_type": "stream",
     "text": [
      "Rozwiązanie pierwszego układu metodą gaussaSiedla:\n",
      " [[ 0.99995851]\n",
      " [-0.999966  ]\n",
      " [ 1.00001725]\n",
      " [-0.99996982]]\n",
      "Liczba kroków do rozwiązania: 15\n",
      "----------------\n",
      "Rozwiązanie drugiego układu metodą gaussaSiedla:\n",
      " [[-0.99991824]\n",
      " [ 0.99991325]\n",
      " [-0.99998467]\n",
      " [ 0.99991747]]\n",
      "Liczba kroków do rozwiązania: 36\n"
     ]
    },
    {
     "data": {
      "text/plain": [
       "<function matplotlib.pyplot.show(close=None, block=None)>"
      ]
     },
     "execution_count": 47,
     "metadata": {},
     "output_type": "execute_result"
    },
    {
     "data": {
      "image/png": "[encoded data removed]",
      "text/plain": [
       "<Figure size 432x288 with 1 Axes>"
      ]
     },
     "metadata": {
      "needs_background": "light"
     },
     "output_type": "display_data"
    }
   ],
   "source": [
    "matrix = np.array([[7, 1, -1, 2], [1, 8, 0, -2], [-1, 0, 4, -1], [2, -2, -1, 6]])\n",
    "vector = np.array([[3], [-5], [4], [-3]])\n",
    "solution = np.array([[1], [-1], [1], [-1]])\n",
    "epsilon = 10 ** (-4)\n",
    "\n",
    "(result, steps, _) = jacobiMethod(matrix, vector, solution, epsilon)\n",
    "\n",
    "print(\"Rozwiązanie pierwszego układu metodą gaussaSiedla:\\n\", result)\n",
    "print(\"Liczba kroków do rozwiązania:\", steps)\n",
    "print(\"----------------\")\n",
    "\n",
    "matrix = np.array([[7, 3, -1, 2], [3, 8, 1, -4], [-1, 1, 4, -1], [2, -4, -1, 6]])\n",
    "vector = np.array([[-1], [0], [-3], [1]])\n",
    "solution = np.array([[-1], [1], [-1], [1]])\n",
    "epsilon = 10 ** (-4)\n",
    "\n",
    "(result, steps, values) = gaussSeidelMethod(matrix, vector, solution, epsilon)\n",
    "\n",
    "print(\"Rozwiązanie drugiego układu metodą gaussaSiedla:\\n\", result)\n",
    "print(\"Liczba kroków do rozwiązania:\", steps)\n",
    "\n",
    "args = [i for i in range(len(values))]\n",
    "\n",
    "plt.scatter(args, values)\n",
    "plt.xlabel('x')\n",
    "plt.ylabel('y')\n",
    "plt.title(\"Zależność błędu od iteracji dla drugiego układu\")\n",
    "plt.show"
   ]
  },
  {
   "cell_type": "markdown",
   "metadata": {},
   "source": [
    "# Metoda 'successive-over-relaxation'"
   ]
  },
  {
   "cell_type": "code",
   "execution_count": 48,
   "metadata": {},
   "outputs": [],
   "source": [
    "def SORMethod(matrix, vector, solution, epsilon, omega):\n",
    "    (n, _) = matrix.shape\n",
    "    initV = np.random.rand(n, 1)\n",
    "    errorArr = []\n",
    "    \n",
    "    steps = 0\n",
    "    while not allclose(initV, solution, atol=epsilon):\n",
    "        for i in range(n):\n",
    "            acc1 = np.dot(matrix[i, :], initV)\n",
    "            acc2 = matrix[i, i] * initV[i, 0]\n",
    "            initV[i, 0] = (1 - omega) * initV[i, 0] + omega / matrix[i, i] * ( vector[i, 0] - acc1 + acc2 )\n",
    "        \n",
    "        errorArr.append(sum([abs(initV[i, 0] - solution[i, 0]) for i in range(len(solution))]) / len(solution))\n",
    "        steps += 1\n",
    "        \n",
    "    return initV, steps, errorArr"
   ]
  },
  {
   "cell_type": "code",
   "execution_count": 49,
   "metadata": {},
   "outputs": [
    {
     "name": "stdout",
     "output_type": "stream",
     "text": [
      "Rozwiązanie pierwszego układu metodą SOR:\n",
      " [[ 1.00004249]\n",
      " [-1.00002922]\n",
      " [ 0.99995949]\n",
      " [-1.00001223]]\n",
      "Liczba kroków do rozwiązania: 5\n",
      "----------------\n",
      "Rozwiązanie drugiego układu metodą SOR:\n",
      " [[-1.00002289]\n",
      " [ 1.00007448]\n",
      " [-0.99990035]\n",
      " [ 1.00005584]]\n",
      "Liczba kroków do rozwiązania: 11\n"
     ]
    },
    {
     "data": {
      "text/plain": [
       "<function matplotlib.pyplot.show(close=None, block=None)>"
      ]
     },
     "execution_count": 49,
     "metadata": {},
     "output_type": "execute_result"
    },
    {
     "data": {
      "image/png": "[encoded data removed]",
      "text/plain": [
       "<Figure size 432x288 with 1 Axes>"
      ]
     },
     "metadata": {
      "needs_background": "light"
     },
     "output_type": "display_data"
    }
   ],
   "source": [
    "matrix = np.array([[7, 1, -1, 2], [1, 8, 0, -2], [-1, 0, 4, -1], [2, -2, -1, 6]])\n",
    "vector = np.array([[3], [-5], [4], [-3]])\n",
    "solution = np.array([[1], [-1], [1], [-1]])\n",
    "epsilon = 10 ** (-4)\n",
    "omega = 1.1\n",
    "\n",
    "(result, steps, _) = SORMethod(matrix, vector, solution, epsilon, omega)\n",
    "\n",
    "print(\"Rozwiązanie pierwszego układu metodą SOR:\\n\", result)\n",
    "print(\"Liczba kroków do rozwiązania:\", steps)\n",
    "print(\"----------------\")\n",
    "\n",
    "matrix = np.array([[7, 3, -1, 2], [3, 8, 1, -4], [-1, 1, 4, -1], [2, -4, -1, 6]])\n",
    "vector = np.array([[-1], [0], [-3], [1]])\n",
    "solution = np.array([[-1], [1], [-1], [1]])\n",
    "epsilon = 10 ** (-4)\n",
    "omega = 1.4\n",
    "\n",
    "(result, steps, values) = SORMethod(matrix, vector, solution, epsilon, omega)\n",
    "\n",
    "print(\"Rozwiązanie drugiego układu metodą SOR:\\n\", result)\n",
    "print(\"Liczba kroków do rozwiązania:\", steps)\n",
    "\n",
    "args = [i for i in range(len(values))]\n",
    "\n",
    "plt.scatter(args, values)\n",
    "plt.xlabel('x')\n",
    "plt.ylabel('y')\n",
    "plt.title(\"Zależność błędu od iteracji dla drugiego układu\")\n",
    "plt.show"
   ]
  },
  {
   "cell_type": "markdown",
   "metadata": {},
   "source": [
    "# Wnioski"
   ]
  },
  {
   "cell_type": "markdown",
   "metadata": {},
   "source": [
    "Zgodnie z przewidywaniami, dla podanych układów równań metoda Jacobiego potrzebuje najwięcej iteracji do zbliżenia się do rozwiązania (odp. 15, 71). Około dwukrotnie mniejszej ilości kroków potrzebuje metoda Gaussa-Siedla (14, 36), natomiast metoda SOR jest najlepsza - potrzebowała 5 kroków dla pierwszego układu, oraz 11 kroków dla drugiego układu."
   ]
  },
  {
   "cell_type": "markdown",
   "metadata": {},
   "source": [
    "# Zad 2"
   ]
  },
  {
   "cell_type": "markdown",
   "metadata": {},
   "source": [
    "# a)\n",
    "\n",
    "poniższa funkcja rysuje obwód w postaci grafu skierowanego, gdzie etykietami są opory na poszczególnych krawędziach."
   ]
  },
  {
   "cell_type": "code",
   "execution_count": 50,
   "metadata": {},
   "outputs": [],
   "source": [
    "# pierwsza trójka w tablicy edges powinna zawierać krawędź, do której przyłożone jest napięcie\n",
    "def drawElectricalCircuit(edges, s, t, SEM):\n",
    "    # create graph\n",
    "    G = nx.DiGraph()\n",
    "\n",
    "    # add edges \n",
    "    for edge in edges:\n",
    "        G.add_edge(edge[0], edge[1], weight = edge[2])\n",
    "\n",
    "    # set graph layout\n",
    "    pos = nx.planar_layout(G)\n",
    "\n",
    "    # nodes and adges\n",
    "    nx.draw_networkx_nodes(G, pos, node_size=1000)\n",
    "    nx.draw_networkx_edges(G, pos, width=5)\n",
    "\n",
    "    # labels\n",
    "    nx.draw_networkx_labels(G, pos, font_size=15)\n",
    "    edge_labels = nx.get_edge_attributes(G, 'weight')\n",
    "    nx.draw_networkx_edge_labels(G, pos, edge_labels=edge_labels, font_size=10)\n",
    "\n",
    "    plt.axis(\"off\")\n",
    "    plt.show()"
   ]
  },
  {
   "cell_type": "code",
   "execution_count": 51,
   "metadata": {},
   "outputs": [
    {
     "data": {
      "image/png": "[encoded data removed]",
      "text/plain": [
       "<Figure size 432x288 with 1 Axes>"
      ]
     },
     "metadata": {},
     "output_type": "display_data"
    }
   ],
   "source": [
    "edges1 = [(5, 0, 0), (0, 1, 7), (1, 2, 2), (1, 3, 5), (2, 4, 4), (3, 4, 1), (2, 5, 6), (3, 5, 11), (4, 5, 9)]\n",
    "edges2 = [(6, 1, 0), (1, 2, 10), (2, 3, 10), (2, 4, 20), (3, 5, 20), (4, 5, 30), (5, 6, 10)]\n",
    "drawElectricalCircuit(edges1, 5, 0, 300)"
   ]
  },
  {
   "cell_type": "markdown",
   "metadata": {},
   "source": [
    "Powyżej przedstawiono obwód elektryczny zaprezentowany w postaci grafu, etykiety oznaczają opory"
   ]
  },
  {
   "cell_type": "markdown",
   "metadata": {},
   "source": [
    "# c)"
   ]
  },
  {
   "cell_type": "code",
   "execution_count": 52,
   "metadata": {},
   "outputs": [],
   "source": [
    "def amperageSolver(edges, s, t, SEM):\n",
    "    \n",
    "    G = nx.DiGraph()\n",
    "    \n",
    "    for edge in edges:\n",
    "        G.add_edge(edge[0], edge[1], weight = edge[2])\n",
    "\n",
    "    cycles = list(nx.simple_cycles(G))\n",
    "    \n",
    "    matrix = []\n",
    "    vector = []\n",
    "    \n",
    "    # wpisanie do macierzy równań wynikających z drugiego prawa Kirchhoffa\n",
    "    for cycle in cycles:\n",
    "        row = []\n",
    "        for edge in edges:\n",
    "            if edge[0] == s and edge[1] == t:\n",
    "                vector.append([SEM])\n",
    "            \n",
    "            flag = False\n",
    "            for i in range(len(cycle)):\n",
    "                if ( edge[0] == cycle[i % len(cycle)] ) and ( edge[1] == cycle[(i + 1) % len(cycle)] ):\n",
    "                    flag = True\n",
    "                    row.append(edge[2])\n",
    "                    break\n",
    "            if flag == False:\n",
    "                row.append(0)\n",
    "        \n",
    "        matrix.append(row)\n",
    "        \n",
    "    # utworzenie tablicy zawierającej indeksy wierzchołków\n",
    "    vertices = []\n",
    "    \n",
    "    for edge in edges:\n",
    "        if edge[0] not in vertices:\n",
    "            vertices.append(edge[0])\n",
    "        \n",
    "        if edge[1] not in vertices:\n",
    "            vertices.append(edge[1])\n",
    "            \n",
    "    # usuwam jeden wierzchołek, ponieważ (n - 1) wystarczy do układu równań\n",
    "    vertices.pop(0)\n",
    "    \n",
    "    # wpisanie do macierzy równań wynikających z pierwszego prawa Kirchhoffa\n",
    "    for vertex in vertices:\n",
    "        vector.append([0])\n",
    "        row = []\n",
    "        for edge in edges:\n",
    "            if edge[0] == vertex: # wychodzące\n",
    "                row.append(-1)\n",
    "            elif edge[1] == vertex: # wchodzące\n",
    "                row.append(1) \n",
    "            else:\n",
    "                row.append(0)\n",
    "        matrix.append(row)\n",
    "        \n",
    "    return np.linalg.solve(matrix, vector)\n",
    "\n",
    "# poniższy zakomentowany kod odpowiada przetestowaniu metody, przy użyciu jednej \n",
    "# z wcześniej zaimplementowanych metod iteracyjnych. Niestety użycie jej generowało\n",
    "# błędy, więc zdecydowałem, że funkcja zwraca rozwiązanie układu równań metodą biblioteczną.\n",
    "# Zwraca ona poprawny, przewidywany wynik.\n",
    "\n",
    "#     matrix = np.array(matrix)    \n",
    "#     vector = np.array(vector)\n",
    "#     epsilon = 10 ** (-4)\n",
    "#     solution = np.linalg.solve(matrix, vector)\n",
    "    \n",
    "#     return gaussSiedelMethod(matrix, vector, solution, epsilon)"
   ]
  },
  {
   "cell_type": "code",
   "execution_count": 53,
   "metadata": {},
   "outputs": [
    {
     "name": "stdout",
     "output_type": "stream",
     "text": [
      "[[26.54915785]\n",
      " [26.54915785]\n",
      " [17.19545633]\n",
      " [ 9.35370153]\n",
      " [ 3.9012926 ]\n",
      " [ 3.2275754 ]\n",
      " [13.29416373]\n",
      " [ 6.12612613]\n",
      " [ 7.128868  ]]\n"
     ]
    },
    {
     "data": {
      "image/png": "[encoded data removed]",
      "text/plain": [
       "<Figure size 432x288 with 1 Axes>"
      ]
     },
     "metadata": {},
     "output_type": "display_data"
    }
   ],
   "source": [
    "edges1 = [(5, 0, 0), (0, 1, 7), (1, 2, 2), (1, 3, 5), (2, 4, 4), (3, 4, 1), (2, 5, 6), (3, 5, 11), (4, 5, 9)]\n",
    "edges2 = [(6, 1, 0), (1, 2, 10), (2, 3, 10), (2, 4, 20), (3, 5, 20), (4, 5, 30), (5, 6, 10)]\n",
    "edges3 = [(1, 2, 0), (2, 3, 10), (3, 4, 10), (4, 1, 10)]\n",
    "edges4 = [(6, 1, 0), (1, 2, 10), (2, 3, 10), (2, 4, 10), (3, 5, 10), (4, 5, 10), (5, 6, 20)]\n",
    "\n",
    "print(amperageSolver(edges1, 5, 0, 300))\n",
    "\n",
    "result = amperageSolver(edges1, 5, 0, 300)\n",
    "\n",
    "electricalCircuit = []\n",
    "for i in range(len(result)):\n",
    "    electricalCircuit.append((edges1[i][0], edges1[i][1], floor(result[i][0])))\n",
    "    \n",
    "drawElectricalCircuit(electricalCircuit, 5, 0, 300)"
   ]
  },
  {
   "cell_type": "markdown",
   "metadata": {},
   "source": [
    "Powyżej przedstawiono obwód elektryczny zaprezentowany w postaci grafu, etykiety oznaczają zaokrąglone (dla poprawienia czytelności) natężenia."
   ]
  },
  {
   "cell_type": "markdown",
   "metadata": {},
   "source": [
    "# f) \n",
    "\n",
    "Niestety nie zdążyłem wygenerować zadanych grafów"
   ]
  }
 ],
 "metadata": {
  "kernelspec": {
   "display_name": "Python 3",
   "language": "python",
   "name": "python3"
  },
  "language_info": {
   "codemirror_mode": {
    "name": "ipython",
    "version": 3
   },
   "file_extension": ".py",
   "mimetype": "text/x-python",
   "name": "python",
   "nbconvert_exporter": "python",
   "pygments_lexer": "ipython3",
   "version": "3.8.5"
  }
 },
 "nbformat": 4,
 "nbformat_minor": 4
}
